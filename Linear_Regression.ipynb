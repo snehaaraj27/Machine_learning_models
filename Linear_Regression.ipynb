{
  "nbformat": 4,
  "nbformat_minor": 0,
  "metadata": {
    "colab": {
      "provenance": [],
      "authorship_tag": "ABX9TyNYHukQBoUcSC+FZKrA2piM",
      "include_colab_link": true
    },
    "kernelspec": {
      "name": "python3",
      "display_name": "Python 3"
    },
    "language_info": {
      "name": "python"
    }
  },
  "cells": [
    {
      "cell_type": "markdown",
      "metadata": {
        "id": "view-in-github",
        "colab_type": "text"
      },
      "source": [
        "<a href=\"https://colab.research.google.com/github/snehaaraj27/Machine_learning_models/blob/main/Linear_Regression.ipynb\" target=\"_parent\"><img src=\"https://colab.research.google.com/assets/colab-badge.svg\" alt=\"Open In Colab\"/></a>"
      ]
    },
    {
      "cell_type": "markdown",
      "source": [
        "**Linear Regression**"
      ],
      "metadata": {
        "id": "LcFcE-FMJND7"
      }
    },
    {
      "cell_type": "markdown",
      "source": [
        "*   Y = m*x+c (Simple linear Regression)\n",
        "*   Y = m1*x1 + m2*x2 + ......+ mn*xn + c (Multiple linear Regression)"
      ],
      "metadata": {
        "id": "QiPfAI3fIQFr"
      }
    },
    {
      "cell_type": "code",
      "execution_count": 130,
      "metadata": {
        "id": "EsduAZgB_lrq"
      },
      "outputs": [],
      "source": [
        "import numpy as np\n",
        "import pandas as pd\n",
        "import seaborn as sns\n",
        "import matplotlib.pyplot as plt\n",
        "%matplotlib inline"
      ]
    },
    {
      "cell_type": "code",
      "source": [
        "company=pd.read_csv(\"/content/1000_Companies.csv\")\n",
        "X = company.iloc[:,:-1].values  #(except the last row)\n",
        "Y = company.iloc[:,:4].values"
      ],
      "metadata": {
        "id": "i9HL1kJkGHji"
      },
      "execution_count": 131,
      "outputs": []
    },
    {
      "cell_type": "code",
      "source": [
        "company.head()"
      ],
      "metadata": {
        "colab": {
          "base_uri": "https://localhost:8080/",
          "height": 206
        },
        "id": "pZuTaH_LKjhf",
        "outputId": "4da624c5-39b8-4376-eb56-614d676c6b4d"
      },
      "execution_count": 132,
      "outputs": [
        {
          "output_type": "execute_result",
          "data": {
            "text/plain": [
              "   R&D Spend  Administration  Marketing Spend       State     Profit\n",
              "0  165349.20       136897.80        471784.10    New York  192261.83\n",
              "1  162597.70       151377.59        443898.53  California  191792.06\n",
              "2  153441.51       101145.55        407934.54     Florida  191050.39\n",
              "3  144372.41       118671.85        383199.62    New York  182901.99\n",
              "4  142107.34        91391.77        366168.42     Florida  166187.94"
            ],
            "text/html": [
              "\n",
              "  <div id=\"df-7e8fc62b-ec3f-4988-bc17-42802d0a2a91\" class=\"colab-df-container\">\n",
              "    <div>\n",
              "<style scoped>\n",
              "    .dataframe tbody tr th:only-of-type {\n",
              "        vertical-align: middle;\n",
              "    }\n",
              "\n",
              "    .dataframe tbody tr th {\n",
              "        vertical-align: top;\n",
              "    }\n",
              "\n",
              "    .dataframe thead th {\n",
              "        text-align: right;\n",
              "    }\n",
              "</style>\n",
              "<table border=\"1\" class=\"dataframe\">\n",
              "  <thead>\n",
              "    <tr style=\"text-align: right;\">\n",
              "      <th></th>\n",
              "      <th>R&amp;D Spend</th>\n",
              "      <th>Administration</th>\n",
              "      <th>Marketing Spend</th>\n",
              "      <th>State</th>\n",
              "      <th>Profit</th>\n",
              "    </tr>\n",
              "  </thead>\n",
              "  <tbody>\n",
              "    <tr>\n",
              "      <th>0</th>\n",
              "      <td>165349.20</td>\n",
              "      <td>136897.80</td>\n",
              "      <td>471784.10</td>\n",
              "      <td>New York</td>\n",
              "      <td>192261.83</td>\n",
              "    </tr>\n",
              "    <tr>\n",
              "      <th>1</th>\n",
              "      <td>162597.70</td>\n",
              "      <td>151377.59</td>\n",
              "      <td>443898.53</td>\n",
              "      <td>California</td>\n",
              "      <td>191792.06</td>\n",
              "    </tr>\n",
              "    <tr>\n",
              "      <th>2</th>\n",
              "      <td>153441.51</td>\n",
              "      <td>101145.55</td>\n",
              "      <td>407934.54</td>\n",
              "      <td>Florida</td>\n",
              "      <td>191050.39</td>\n",
              "    </tr>\n",
              "    <tr>\n",
              "      <th>3</th>\n",
              "      <td>144372.41</td>\n",
              "      <td>118671.85</td>\n",
              "      <td>383199.62</td>\n",
              "      <td>New York</td>\n",
              "      <td>182901.99</td>\n",
              "    </tr>\n",
              "    <tr>\n",
              "      <th>4</th>\n",
              "      <td>142107.34</td>\n",
              "      <td>91391.77</td>\n",
              "      <td>366168.42</td>\n",
              "      <td>Florida</td>\n",
              "      <td>166187.94</td>\n",
              "    </tr>\n",
              "  </tbody>\n",
              "</table>\n",
              "</div>\n",
              "    <div class=\"colab-df-buttons\">\n",
              "\n",
              "  <div class=\"colab-df-container\">\n",
              "    <button class=\"colab-df-convert\" onclick=\"convertToInteractive('df-7e8fc62b-ec3f-4988-bc17-42802d0a2a91')\"\n",
              "            title=\"Convert this dataframe to an interactive table.\"\n",
              "            style=\"display:none;\">\n",
              "\n",
              "  <svg xmlns=\"http://www.w3.org/2000/svg\" height=\"24px\" viewBox=\"0 -960 960 960\">\n",
              "    <path d=\"M120-120v-720h720v720H120Zm60-500h600v-160H180v160Zm220 220h160v-160H400v160Zm0 220h160v-160H400v160ZM180-400h160v-160H180v160Zm440 0h160v-160H620v160ZM180-180h160v-160H180v160Zm440 0h160v-160H620v160Z\"/>\n",
              "  </svg>\n",
              "    </button>\n",
              "\n",
              "  <style>\n",
              "    .colab-df-container {\n",
              "      display:flex;\n",
              "      gap: 12px;\n",
              "    }\n",
              "\n",
              "    .colab-df-convert {\n",
              "      background-color: #E8F0FE;\n",
              "      border: none;\n",
              "      border-radius: 50%;\n",
              "      cursor: pointer;\n",
              "      display: none;\n",
              "      fill: #1967D2;\n",
              "      height: 32px;\n",
              "      padding: 0 0 0 0;\n",
              "      width: 32px;\n",
              "    }\n",
              "\n",
              "    .colab-df-convert:hover {\n",
              "      background-color: #E2EBFA;\n",
              "      box-shadow: 0px 1px 2px rgba(60, 64, 67, 0.3), 0px 1px 3px 1px rgba(60, 64, 67, 0.15);\n",
              "      fill: #174EA6;\n",
              "    }\n",
              "\n",
              "    .colab-df-buttons div {\n",
              "      margin-bottom: 4px;\n",
              "    }\n",
              "\n",
              "    [theme=dark] .colab-df-convert {\n",
              "      background-color: #3B4455;\n",
              "      fill: #D2E3FC;\n",
              "    }\n",
              "\n",
              "    [theme=dark] .colab-df-convert:hover {\n",
              "      background-color: #434B5C;\n",
              "      box-shadow: 0px 1px 3px 1px rgba(0, 0, 0, 0.15);\n",
              "      filter: drop-shadow(0px 1px 2px rgba(0, 0, 0, 0.3));\n",
              "      fill: #FFFFFF;\n",
              "    }\n",
              "  </style>\n",
              "\n",
              "    <script>\n",
              "      const buttonEl =\n",
              "        document.querySelector('#df-7e8fc62b-ec3f-4988-bc17-42802d0a2a91 button.colab-df-convert');\n",
              "      buttonEl.style.display =\n",
              "        google.colab.kernel.accessAllowed ? 'block' : 'none';\n",
              "\n",
              "      async function convertToInteractive(key) {\n",
              "        const element = document.querySelector('#df-7e8fc62b-ec3f-4988-bc17-42802d0a2a91');\n",
              "        const dataTable =\n",
              "          await google.colab.kernel.invokeFunction('convertToInteractive',\n",
              "                                                    [key], {});\n",
              "        if (!dataTable) return;\n",
              "\n",
              "        const docLinkHtml = 'Like what you see? Visit the ' +\n",
              "          '<a target=\"_blank\" href=https://colab.research.google.com/notebooks/data_table.ipynb>data table notebook</a>'\n",
              "          + ' to learn more about interactive tables.';\n",
              "        element.innerHTML = '';\n",
              "        dataTable['output_type'] = 'display_data';\n",
              "        await google.colab.output.renderOutput(dataTable, element);\n",
              "        const docLink = document.createElement('div');\n",
              "        docLink.innerHTML = docLinkHtml;\n",
              "        element.appendChild(docLink);\n",
              "      }\n",
              "    </script>\n",
              "  </div>\n",
              "\n",
              "\n",
              "<div id=\"df-32694dc2-868d-44a1-8982-17ae62189323\">\n",
              "  <button class=\"colab-df-quickchart\" onclick=\"quickchart('df-32694dc2-868d-44a1-8982-17ae62189323')\"\n",
              "            title=\"Suggest charts\"\n",
              "            style=\"display:none;\">\n",
              "\n",
              "<svg xmlns=\"http://www.w3.org/2000/svg\" height=\"24px\"viewBox=\"0 0 24 24\"\n",
              "     width=\"24px\">\n",
              "    <g>\n",
              "        <path d=\"M19 3H5c-1.1 0-2 .9-2 2v14c0 1.1.9 2 2 2h14c1.1 0 2-.9 2-2V5c0-1.1-.9-2-2-2zM9 17H7v-7h2v7zm4 0h-2V7h2v10zm4 0h-2v-4h2v4z\"/>\n",
              "    </g>\n",
              "</svg>\n",
              "  </button>\n",
              "\n",
              "<style>\n",
              "  .colab-df-quickchart {\n",
              "      --bg-color: #E8F0FE;\n",
              "      --fill-color: #1967D2;\n",
              "      --hover-bg-color: #E2EBFA;\n",
              "      --hover-fill-color: #174EA6;\n",
              "      --disabled-fill-color: #AAA;\n",
              "      --disabled-bg-color: #DDD;\n",
              "  }\n",
              "\n",
              "  [theme=dark] .colab-df-quickchart {\n",
              "      --bg-color: #3B4455;\n",
              "      --fill-color: #D2E3FC;\n",
              "      --hover-bg-color: #434B5C;\n",
              "      --hover-fill-color: #FFFFFF;\n",
              "      --disabled-bg-color: #3B4455;\n",
              "      --disabled-fill-color: #666;\n",
              "  }\n",
              "\n",
              "  .colab-df-quickchart {\n",
              "    background-color: var(--bg-color);\n",
              "    border: none;\n",
              "    border-radius: 50%;\n",
              "    cursor: pointer;\n",
              "    display: none;\n",
              "    fill: var(--fill-color);\n",
              "    height: 32px;\n",
              "    padding: 0;\n",
              "    width: 32px;\n",
              "  }\n",
              "\n",
              "  .colab-df-quickchart:hover {\n",
              "    background-color: var(--hover-bg-color);\n",
              "    box-shadow: 0 1px 2px rgba(60, 64, 67, 0.3), 0 1px 3px 1px rgba(60, 64, 67, 0.15);\n",
              "    fill: var(--button-hover-fill-color);\n",
              "  }\n",
              "\n",
              "  .colab-df-quickchart-complete:disabled,\n",
              "  .colab-df-quickchart-complete:disabled:hover {\n",
              "    background-color: var(--disabled-bg-color);\n",
              "    fill: var(--disabled-fill-color);\n",
              "    box-shadow: none;\n",
              "  }\n",
              "\n",
              "  .colab-df-spinner {\n",
              "    border: 2px solid var(--fill-color);\n",
              "    border-color: transparent;\n",
              "    border-bottom-color: var(--fill-color);\n",
              "    animation:\n",
              "      spin 1s steps(1) infinite;\n",
              "  }\n",
              "\n",
              "  @keyframes spin {\n",
              "    0% {\n",
              "      border-color: transparent;\n",
              "      border-bottom-color: var(--fill-color);\n",
              "      border-left-color: var(--fill-color);\n",
              "    }\n",
              "    20% {\n",
              "      border-color: transparent;\n",
              "      border-left-color: var(--fill-color);\n",
              "      border-top-color: var(--fill-color);\n",
              "    }\n",
              "    30% {\n",
              "      border-color: transparent;\n",
              "      border-left-color: var(--fill-color);\n",
              "      border-top-color: var(--fill-color);\n",
              "      border-right-color: var(--fill-color);\n",
              "    }\n",
              "    40% {\n",
              "      border-color: transparent;\n",
              "      border-right-color: var(--fill-color);\n",
              "      border-top-color: var(--fill-color);\n",
              "    }\n",
              "    60% {\n",
              "      border-color: transparent;\n",
              "      border-right-color: var(--fill-color);\n",
              "    }\n",
              "    80% {\n",
              "      border-color: transparent;\n",
              "      border-right-color: var(--fill-color);\n",
              "      border-bottom-color: var(--fill-color);\n",
              "    }\n",
              "    90% {\n",
              "      border-color: transparent;\n",
              "      border-bottom-color: var(--fill-color);\n",
              "    }\n",
              "  }\n",
              "</style>\n",
              "\n",
              "  <script>\n",
              "    async function quickchart(key) {\n",
              "      const quickchartButtonEl =\n",
              "        document.querySelector('#' + key + ' button');\n",
              "      quickchartButtonEl.disabled = true;  // To prevent multiple clicks.\n",
              "      quickchartButtonEl.classList.add('colab-df-spinner');\n",
              "      try {\n",
              "        const charts = await google.colab.kernel.invokeFunction(\n",
              "            'suggestCharts', [key], {});\n",
              "      } catch (error) {\n",
              "        console.error('Error during call to suggestCharts:', error);\n",
              "      }\n",
              "      quickchartButtonEl.classList.remove('colab-df-spinner');\n",
              "      quickchartButtonEl.classList.add('colab-df-quickchart-complete');\n",
              "    }\n",
              "    (() => {\n",
              "      let quickchartButtonEl =\n",
              "        document.querySelector('#df-32694dc2-868d-44a1-8982-17ae62189323 button');\n",
              "      quickchartButtonEl.style.display =\n",
              "        google.colab.kernel.accessAllowed ? 'block' : 'none';\n",
              "    })();\n",
              "  </script>\n",
              "</div>\n",
              "\n",
              "    </div>\n",
              "  </div>\n"
            ],
            "application/vnd.google.colaboratory.intrinsic+json": {
              "type": "dataframe",
              "variable_name": "company",
              "summary": "{\n  \"name\": \"company\",\n  \"rows\": 1000,\n  \"fields\": [\n    {\n      \"column\": \"R&D Spend\",\n      \"properties\": {\n        \"dtype\": \"number\",\n        \"std\": 46537.56789148918,\n        \"min\": 0.0,\n        \"max\": 165349.2,\n        \"samples\": [\n          36880.0,\n          12564.0,\n          141203.0\n        ],\n        \"num_unique_values\": 997,\n        \"semantic_type\": \"\",\n        \"description\": \"\"\n      }\n    },\n    {\n      \"column\": \"Administration\",\n      \"properties\": {\n        \"dtype\": \"number\",\n        \"std\": 12613.927534630991,\n        \"min\": 51283.14,\n        \"max\": 321652.14,\n        \"samples\": [\n          116766.4752,\n          131428.4501,\n          112593.9434\n        ],\n        \"num_unique_values\": 998,\n        \"semantic_type\": \"\",\n        \"description\": \"\"\n      }\n    },\n    {\n      \"column\": \"Marketing Spend\",\n      \"properties\": {\n        \"dtype\": \"number\",\n        \"std\": 91578.39354210424,\n        \"min\": 0.0,\n        \"max\": 471784.1,\n        \"samples\": [\n          281778.7751,\n          277273.3863,\n          255207.593\n        ],\n        \"num_unique_values\": 996,\n        \"semantic_type\": \"\",\n        \"description\": \"\"\n      }\n    },\n    {\n      \"column\": \"State\",\n      \"properties\": {\n        \"dtype\": \"category\",\n        \"samples\": [\n          \"New York\",\n          \"California\",\n          \"Florida\"\n        ],\n        \"num_unique_values\": 3,\n        \"semantic_type\": \"\",\n        \"description\": \"\"\n      }\n    },\n    {\n      \"column\": \"Profit\",\n      \"properties\": {\n        \"dtype\": \"number\",\n        \"std\": 42888.63384847688,\n        \"min\": 14681.4,\n        \"max\": 476485.43,\n        \"samples\": [\n          85529.93509,\n          170343.1281,\n          61393.64099\n        ],\n        \"num_unique_values\": 998,\n        \"semantic_type\": \"\",\n        \"description\": \"\"\n      }\n    }\n  ]\n}"
            }
          },
          "metadata": {},
          "execution_count": 132
        }
      ]
    },
    {
      "cell_type": "code",
      "source": [
        "sns.heatmap(company.corr()) #the diagonal line is where the data is highly valued and correspondiong data when it becomes darker there is less connections between the data"
      ],
      "metadata": {
        "colab": {
          "base_uri": "https://localhost:8080/",
          "height": 613
        },
        "id": "Z7i8QJyUMv0F",
        "outputId": "a9493357-c54d-4100-e7e1-7ef3a360fc4b"
      },
      "execution_count": 133,
      "outputs": [
        {
          "output_type": "stream",
          "name": "stderr",
          "text": [
            "<ipython-input-133-2af42506e4f8>:1: FutureWarning: The default value of numeric_only in DataFrame.corr is deprecated. In a future version, it will default to False. Select only valid columns or specify the value of numeric_only to silence this warning.\n",
            "  sns.heatmap(company.corr()) #the diagonal line is where the data is highly valued and correspondiong data when it becomes darker there is less connections between the data\n"
          ]
        },
        {
          "output_type": "execute_result",
          "data": {
            "text/plain": [
              "<Axes: >"
            ]
          },
          "metadata": {},
          "execution_count": 133
        },
        {
          "output_type": "display_data",
          "data": {
            "text/plain": [
              "<Figure size 640x480 with 2 Axes>"
            ],
            "image/png": "[encoded data removed]"
          },
          "metadata": {}
        }
      ]
    },
    {
      "cell_type": "code",
      "source": [
        "from sklearn.preprocessing import LabelEncoder, OneHotEncoder\n",
        "labelencoder = LabelEncoder()\n",
        "X[:, 3] = labelencoder.fit_transform(X[:, 3]) #looking at all the diffrent rows (:) the 3 defines the 3rd column\n",
        "\n",
        "onehotencoder = OneHotEncoder(categories='auto', sparse=False) # Specify the column(s) to be one-hot encoded\n",
        "X = onehotencoder.fit_transform(X) # Apply encoding"
      ],
      "metadata": {
        "colab": {
          "base_uri": "https://localhost:8080/"
        },
        "id": "vD5oGJVxNa-6",
        "outputId": "3071fd67-5535-47fc-fa1a-c2001eb6f125"
      },
      "execution_count": 134,
      "outputs": [
        {
          "output_type": "stream",
          "name": "stderr",
          "text": [
            "/usr/local/lib/python3.10/dist-packages/sklearn/preprocessing/_encoders.py:868: FutureWarning: `sparse` was renamed to `sparse_output` in version 1.2 and will be removed in 1.4. `sparse_output` is ignored unless you leave `sparse` to its default value.\n",
            "  warnings.warn(\n"
          ]
        }
      ]
    },
    {
      "cell_type": "code",
      "source": [
        "X = X[:,1:] #REMOVING OF DUMMY VARIABLE"
      ],
      "metadata": {
        "id": "qX2VuZ7URCpN"
      },
      "execution_count": 135,
      "outputs": []
    },
    {
      "cell_type": "code",
      "source": [
        "from sklearn.model_selection import train_test_split\n",
        "X_train, X_test, y_train, y_test = train_test_split(X, Y, test_size=0.2, random_state=0)"
      ],
      "metadata": {
        "id": "UnLP6Ld4T1Qf"
      },
      "execution_count": 136,
      "outputs": []
    },
    {
      "cell_type": "code",
      "source": [
        "from sklearn.preprocessing import OneHotEncoder\n",
        "from sklearn.compose import ColumnTransformer\n",
        "\n",
        "# Assuming 'State' is a categorical variable in X_train and you know its index\n",
        "column_index_of_state = 0  # Replace this with the actual index of the 'State' column in X_train\n",
        "\n",
        "column_transformer = ColumnTransformer(\n",
        "    transformers=[\n",
        "        ('onehot', OneHotEncoder(), [column_index_of_state])\n",
        "    ],\n",
        "    remainder='passthrough'\n",
        ")\n",
        "\n",
        "X_train_encoded = column_transformer.fit_transform(X_train)\n"
      ],
      "metadata": {
        "id": "aecAqbMGiZ16"
      },
      "execution_count": 137,
      "outputs": []
    },
    {
      "cell_type": "code",
      "source": [
        "from sklearn.preprocessing import OneHotEncoder\n",
        "\n",
        "# Convert y_train to strings\n",
        "y_train_str = y_train.astype(str)\n",
        "\n",
        "# Perform one-hot encoding\n",
        "onehot_encoder = OneHotEncoder()\n",
        "y_train_encoded = onehot_encoder.fit_transform(y_train_str.reshape(-1, 1))\n"
      ],
      "metadata": {
        "id": "X5wsJeITYyvz"
      },
      "execution_count": 138,
      "outputs": []
    },
    {
      "cell_type": "code",
      "source": [
        "# Assuming y_train_encoded has more samples than X_train_encoded\n",
        "y_train_encoded = y_train_encoded[:X_train_encoded.shape[0], :]\n",
        "\n"
      ],
      "metadata": {
        "id": "P5GuhlO7ZqIm"
      },
      "execution_count": 139,
      "outputs": []
    },
    {
      "cell_type": "code",
      "source": [
        "y_train_dense = y_train_encoded.toarray()\n"
      ],
      "metadata": {
        "id": "v7Rd5v9ejlxV"
      },
      "execution_count": 140,
      "outputs": []
    },
    {
      "cell_type": "code",
      "source": [
        "from sklearn.linear_model import LinearRegression\n",
        "\n",
        "regression = LinearRegression()\n",
        "regression.fit(X_train_encoded, y_train_dense)"
      ],
      "metadata": {
        "colab": {
          "base_uri": "https://localhost:8080/",
          "height": 74
        },
        "id": "gxYU1vBpj011",
        "outputId": "82e532d2-9426-4596-bd5d-21fed26f0f3a"
      },
      "execution_count": 141,
      "outputs": [
        {
          "output_type": "execute_result",
          "data": {
            "text/plain": [
              "LinearRegression()"
            ],
            "text/html": [
              "<style>#sk-container-id-6 {color: black;background-color: white;}#sk-container-id-6 pre{padding: 0;}#sk-container-id-6 div.sk-toggleable {background-color: white;}#sk-container-id-6 label.sk-toggleable__label {cursor: pointer;display: block;width: 100%;margin-bottom: 0;padding: 0.3em;box-sizing: border-box;text-align: center;}#sk-container-id-6 label.sk-toggleable__label-arrow:before {content: \"▸\";float: left;margin-right: 0.25em;color: #696969;}#sk-container-id-6 label.sk-toggleable__label-arrow:hover:before {color: black;}#sk-container-id-6 div.sk-estimator:hover label.sk-toggleable__label-arrow:before {color: black;}#sk-container-id-6 div.sk-toggleable__content {max-height: 0;max-width: 0;overflow: hidden;text-align: left;background-color: #f0f8ff;}#sk-container-id-6 div.sk-toggleable__content pre {margin: 0.2em;color: black;border-radius: 0.25em;background-color: #f0f8ff;}#sk-container-id-6 input.sk-toggleable__control:checked~div.sk-toggleable__content {max-height: 200px;max-width: 100%;overflow: auto;}#sk-container-id-6 input.sk-toggleable__control:checked~label.sk-toggleable__label-arrow:before {content: \"▾\";}#sk-container-id-6 div.sk-estimator input.sk-toggleable__control:checked~label.sk-toggleable__label {background-color: #d4ebff;}#sk-container-id-6 div.sk-label input.sk-toggleable__control:checked~label.sk-toggleable__label {background-color: #d4ebff;}#sk-container-id-6 input.sk-hidden--visually {border: 0;clip: rect(1px 1px 1px 1px);clip: rect(1px, 1px, 1px, 1px);height: 1px;margin: -1px;overflow: hidden;padding: 0;position: absolute;width: 1px;}#sk-container-id-6 div.sk-estimator {font-family: monospace;background-color: #f0f8ff;border: 1px dotted black;border-radius: 0.25em;box-sizing: border-box;margin-bottom: 0.5em;}#sk-container-id-6 div.sk-estimator:hover {background-color: #d4ebff;}#sk-container-id-6 div.sk-parallel-item::after {content: \"\";width: 100%;border-bottom: 1px solid gray;flex-grow: 1;}#sk-container-id-6 div.sk-label:hover label.sk-toggleable__label {background-color: #d4ebff;}#sk-container-id-6 div.sk-serial::before {content: \"\";position: absolute;border-left: 1px solid gray;box-sizing: border-box;top: 0;bottom: 0;left: 50%;z-index: 0;}#sk-container-id-6 div.sk-serial {display: flex;flex-direction: column;align-items: center;background-color: white;padding-right: 0.2em;padding-left: 0.2em;position: relative;}#sk-container-id-6 div.sk-item {position: relative;z-index: 1;}#sk-container-id-6 div.sk-parallel {display: flex;align-items: stretch;justify-content: center;background-color: white;position: relative;}#sk-container-id-6 div.sk-item::before, #sk-container-id-6 div.sk-parallel-item::before {content: \"\";position: absolute;border-left: 1px solid gray;box-sizing: border-box;top: 0;bottom: 0;left: 50%;z-index: -1;}#sk-container-id-6 div.sk-parallel-item {display: flex;flex-direction: column;z-index: 1;position: relative;background-color: white;}#sk-container-id-6 div.sk-parallel-item:first-child::after {align-self: flex-end;width: 50%;}#sk-container-id-6 div.sk-parallel-item:last-child::after {align-self: flex-start;width: 50%;}#sk-container-id-6 div.sk-parallel-item:only-child::after {width: 0;}#sk-container-id-6 div.sk-dashed-wrapped {border: 1px dashed gray;margin: 0 0.4em 0.5em 0.4em;box-sizing: border-box;padding-bottom: 0.4em;background-color: white;}#sk-container-id-6 div.sk-label label {font-family: monospace;font-weight: bold;display: inline-block;line-height: 1.2em;}#sk-container-id-6 div.sk-label-container {text-align: center;}#sk-container-id-6 div.sk-container {/* jupyter's `normalize.less` sets `[hidden] { display: none; }` but bootstrap.min.css set `[hidden] { display: none !important; }` so we also need the `!important` here to be able to override the default hidden behavior on the sphinx rendered scikit-learn.org. See: https://github.com/scikit-learn/scikit-learn/issues/21755 */display: inline-block !important;position: relative;}#sk-container-id-6 div.sk-text-repr-fallback {display: none;}</style><div id=\"sk-container-id-6\" class=\"sk-top-container\"><div class=\"sk-text-repr-fallback\"><pre>LinearRegression()</pre><b>In a Jupyter environment, please rerun this cell to show the HTML representation or trust the notebook. <br />On GitHub, the HTML representation is unable to render, please try loading this page with nbviewer.org.</b></div><div class=\"sk-container\" hidden><div class=\"sk-item\"><div class=\"sk-estimator sk-toggleable\"><input class=\"sk-toggleable__control sk-hidden--visually\" id=\"sk-estimator-id-6\" type=\"checkbox\" checked><label for=\"sk-estimator-id-6\" class=\"sk-toggleable__label sk-toggleable__label-arrow\">LinearRegression</label><div class=\"sk-toggleable__content\"><pre>LinearRegression()</pre></div></div></div></div></div>"
            ]
          },
          "metadata": {},
          "execution_count": 141
        }
      ]
    },
    {
      "cell_type": "code",
      "source": [
        "# from sklearn.linear_model import LinearRegression\n",
        "# regression = LinearRegression()\n",
        "# regression.fit(X_train, y_train)\n",
        "# I got error in this so the following code I used to"
      ],
      "metadata": {
        "id": "Bnh2QPNpj-GA"
      },
      "execution_count": 142,
      "outputs": []
    },
    {
      "cell_type": "code",
      "source": [
        "#now start with the prediction\n",
        "y_pred = regression.predict(X_train_encoded)"
      ],
      "metadata": {
        "id": "_zV3gg9jkIb3"
      },
      "execution_count": 143,
      "outputs": []
    },
    {
      "cell_type": "code",
      "source": [
        "print(y_pred)"
      ],
      "metadata": {
        "colab": {
          "base_uri": "https://localhost:8080/"
        },
        "id": "XvZ-YfWn9bfT",
        "outputId": "612388d5-fa2a-457d-ea42-b3a2963ce87a"
      },
      "execution_count": 144,
      "outputs": [
        {
          "output_type": "stream",
          "name": "stdout",
          "text": [
            "[[ 2.28549818e-16  0.00000000e+00  0.00000000e+00 ...  3.62210262e-15\n",
            "   1.92901251e-15  4.57763672e-05]\n",
            " [ 2.66713734e-16  0.00000000e+00  0.00000000e+00 ... -8.74300632e-15\n",
            "  -5.12090370e-15  3.81469727e-05]\n",
            " [ 3.25260652e-17  0.00000000e+00  0.00000000e+00 ...  1.38777878e-17\n",
            "   4.10782519e-15 -1.62506104e-03]\n",
            " ...\n",
            " [ 1.33140027e-16  0.00000000e+00  0.00000000e+00 ... -3.46944695e-16\n",
            "  -6.93889390e-16  3.81469727e-05]\n",
            " [ 4.98732999e-17  0.00000000e+00  0.00000000e+00 ... -6.10622664e-16\n",
            "   9.43689571e-16  7.62939453e-05]\n",
            " [-6.11490025e-17  0.00000000e+00  0.00000000e+00 ...  5.82867088e-16\n",
            "   2.35922393e-16  1.00021744e+00]]\n"
          ]
        }
      ]
    },
    {
      "cell_type": "code",
      "source": [
        "#calculate coefficients\n",
        "print(regression.coef_)"
      ],
      "metadata": {
        "colab": {
          "base_uri": "https://localhost:8080/"
        },
        "id": "kIuSRanT9ENR",
        "outputId": "606a4b35-cab1-4432-e118-54b6942b099a"
      },
      "execution_count": 145,
      "outputs": [
        {
          "output_type": "stream",
          "name": "stdout",
          "text": [
            "[[-2.13320399e-03 -1.42114504e-03 -5.04676998e-04 ...  3.26961696e-03\n",
            "   3.50567126e-03 -2.30241744e-04]\n",
            " [ 0.00000000e+00  0.00000000e+00  0.00000000e+00 ...  0.00000000e+00\n",
            "   0.00000000e+00  0.00000000e+00]\n",
            " [ 0.00000000e+00  0.00000000e+00  0.00000000e+00 ...  0.00000000e+00\n",
            "   0.00000000e+00  0.00000000e+00]\n",
            " ...\n",
            " [ 3.66707612e-02  3.00737286e-03  5.63384222e-03 ... -3.19595625e-02\n",
            "  -4.15715975e-02  4.67082612e-04]\n",
            " [-9.33457748e-03 -1.98983904e-02 -4.15074783e-03 ...  3.21956229e-02\n",
            "   1.79012647e-02  3.73326037e-03]\n",
            " [ 2.97006665e+10  3.15674332e+10  8.69937094e+09 ... -3.75268445e+10\n",
            "  -3.73031971e+10 -3.79902126e+10]]\n"
          ]
        }
      ]
    },
    {
      "cell_type": "code",
      "source": [
        "#calculate the intercept\n",
        "print(regression.intercept_)"
      ],
      "metadata": {
        "colab": {
          "base_uri": "https://localhost:8080/"
        },
        "id": "H_fmWYhL-f0N",
        "outputId": "779eb744-68dd-419d-e7ba-836af0b5ed1a"
      },
      "execution_count": 146,
      "outputs": [
        {
          "output_type": "stream",
          "name": "stdout",
          "text": [
            "[2.41418972e-03 0.00000000e+00 0.00000000e+00 ... 7.82254557e-02\n",
            " 7.54820116e-02 8.10827798e+09]\n"
          ]
        }
      ]
    },
    {
      "cell_type": "code",
      "source": [
        "#the evaluation part\n",
        "from sklearn.metrics import r2_score\n",
        "r2_score(y_train_dense, y_pred) #if the output in 91 and above is the valide model"
      ],
      "metadata": {
        "colab": {
          "base_uri": "https://localhost:8080/"
        },
        "id": "mhQBmkyN-xWe",
        "outputId": "72e8f143-9a26-492c-940d-9746e1759d8c"
      },
      "execution_count": 147,
      "outputs": [
        {
          "output_type": "execute_result",
          "data": {
            "text/plain": [
              "0.9997868501198199"
            ]
          },
          "metadata": {},
          "execution_count": 147
        }
      ]
    },
    {
      "cell_type": "markdown",
      "source": [
        "Now if this based on the project\n"
      ],
      "metadata": {
        "id": "mMejdZ8sIyj8"
      }
    },
    {
      "cell_type": "markdown",
      "source": [
        "**This is for training the linear regression model then for output add ur file**\n"
      ],
      "metadata": {
        "id": "am6ZG76AAi6V"
      }
    },
    {
      "cell_type": "code",
      "source": [
        "import numpy as np\n",
        "import pandas as pd\n",
        "import seaborn as sns\n",
        "import matplotlib.pyplot as plt\n",
        "%matplotlib inline"
      ],
      "metadata": {
        "id": "S7ftOlwNI3tY"
      },
      "execution_count": 148,
      "outputs": []
    },
    {
      "cell_type": "code",
      "source": [
        "salary_data=pd.read_csv(\"/content/Salary.csv\")\n",
        "X = company.iloc[:,:-1].values  #(except the last row)\n",
        "y = company.iloc[:,:1].values"
      ],
      "metadata": {
        "id": "MgLxZ60CJoAj"
      },
      "execution_count": 149,
      "outputs": []
    },
    {
      "cell_type": "code",
      "source": [
        "salary_data.head()"
      ],
      "metadata": {
        "colab": {
          "base_uri": "https://localhost:8080/",
          "height": 206
        },
        "id": "6y7Fn6E_K6cr",
        "outputId": "82506aa1-ddcd-4ab2-e1de-29bb0eac282d"
      },
      "execution_count": 150,
      "outputs": [
        {
          "output_type": "execute_result",
          "data": {
            "text/plain": [
              "   YearsExperience  Salary\n",
              "0              1.1   39343\n",
              "1              1.3   46205\n",
              "2              1.5   37731\n",
              "3              2.0   43525\n",
              "4              2.2   39891"
            ],
            "text/html": [
              "\n",
              "  <div id=\"df-34fa19b6-5fff-48ac-a3cc-eff5009e5f49\" class=\"colab-df-container\">\n",
              "    <div>\n",
              "<style scoped>\n",
              "    .dataframe tbody tr th:only-of-type {\n",
              "        vertical-align: middle;\n",
              "    }\n",
              "\n",
              "    .dataframe tbody tr th {\n",
              "        vertical-align: top;\n",
              "    }\n",
              "\n",
              "    .dataframe thead th {\n",
              "        text-align: right;\n",
              "    }\n",
              "</style>\n",
              "<table border=\"1\" class=\"dataframe\">\n",
              "  <thead>\n",
              "    <tr style=\"text-align: right;\">\n",
              "      <th></th>\n",
              "      <th>YearsExperience</th>\n",
              "      <th>Salary</th>\n",
              "    </tr>\n",
              "  </thead>\n",
              "  <tbody>\n",
              "    <tr>\n",
              "      <th>0</th>\n",
              "      <td>1.1</td>\n",
              "      <td>39343</td>\n",
              "    </tr>\n",
              "    <tr>\n",
              "      <th>1</th>\n",
              "      <td>1.3</td>\n",
              "      <td>46205</td>\n",
              "    </tr>\n",
              "    <tr>\n",
              "      <th>2</th>\n",
              "      <td>1.5</td>\n",
              "      <td>37731</td>\n",
              "    </tr>\n",
              "    <tr>\n",
              "      <th>3</th>\n",
              "      <td>2.0</td>\n",
              "      <td>43525</td>\n",
              "    </tr>\n",
              "    <tr>\n",
              "      <th>4</th>\n",
              "      <td>2.2</td>\n",
              "      <td>39891</td>\n",
              "    </tr>\n",
              "  </tbody>\n",
              "</table>\n",
              "</div>\n",
              "    <div class=\"colab-df-buttons\">\n",
              "\n",
              "  <div class=\"colab-df-container\">\n",
              "    <button class=\"colab-df-convert\" onclick=\"convertToInteractive('df-34fa19b6-5fff-48ac-a3cc-eff5009e5f49')\"\n",
              "            title=\"Convert this dataframe to an interactive table.\"\n",
              "            style=\"display:none;\">\n",
              "\n",
              "  <svg xmlns=\"http://www.w3.org/2000/svg\" height=\"24px\" viewBox=\"0 -960 960 960\">\n",
              "    <path d=\"M120-120v-720h720v720H120Zm60-500h600v-160H180v160Zm220 220h160v-160H400v160Zm0 220h160v-160H400v160ZM180-400h160v-160H180v160Zm440 0h160v-160H620v160ZM180-180h160v-160H180v160Zm440 0h160v-160H620v160Z\"/>\n",
              "  </svg>\n",
              "    </button>\n",
              "\n",
              "  <style>\n",
              "    .colab-df-container {\n",
              "      display:flex;\n",
              "      gap: 12px;\n",
              "    }\n",
              "\n",
              "    .colab-df-convert {\n",
              "      background-color: #E8F0FE;\n",
              "      border: none;\n",
              "      border-radius: 50%;\n",
              "      cursor: pointer;\n",
              "      display: none;\n",
              "      fill: #1967D2;\n",
              "      height: 32px;\n",
              "      padding: 0 0 0 0;\n",
              "      width: 32px;\n",
              "    }\n",
              "\n",
              "    .colab-df-convert:hover {\n",
              "      background-color: #E2EBFA;\n",
              "      box-shadow: 0px 1px 2px rgba(60, 64, 67, 0.3), 0px 1px 3px 1px rgba(60, 64, 67, 0.15);\n",
              "      fill: #174EA6;\n",
              "    }\n",
              "\n",
              "    .colab-df-buttons div {\n",
              "      margin-bottom: 4px;\n",
              "    }\n",
              "\n",
              "    [theme=dark] .colab-df-convert {\n",
              "      background-color: #3B4455;\n",
              "      fill: #D2E3FC;\n",
              "    }\n",
              "\n",
              "    [theme=dark] .colab-df-convert:hover {\n",
              "      background-color: #434B5C;\n",
              "      box-shadow: 0px 1px 3px 1px rgba(0, 0, 0, 0.15);\n",
              "      filter: drop-shadow(0px 1px 2px rgba(0, 0, 0, 0.3));\n",
              "      fill: #FFFFFF;\n",
              "    }\n",
              "  </style>\n",
              "\n",
              "    <script>\n",
              "      const buttonEl =\n",
              "        document.querySelector('#df-34fa19b6-5fff-48ac-a3cc-eff5009e5f49 button.colab-df-convert');\n",
              "      buttonEl.style.display =\n",
              "        google.colab.kernel.accessAllowed ? 'block' : 'none';\n",
              "\n",
              "      async function convertToInteractive(key) {\n",
              "        const element = document.querySelector('#df-34fa19b6-5fff-48ac-a3cc-eff5009e5f49');\n",
              "        const dataTable =\n",
              "          await google.colab.kernel.invokeFunction('convertToInteractive',\n",
              "                                                    [key], {});\n",
              "        if (!dataTable) return;\n",
              "\n",
              "        const docLinkHtml = 'Like what you see? Visit the ' +\n",
              "          '<a target=\"_blank\" href=https://colab.research.google.com/notebooks/data_table.ipynb>data table notebook</a>'\n",
              "          + ' to learn more about interactive tables.';\n",
              "        element.innerHTML = '';\n",
              "        dataTable['output_type'] = 'display_data';\n",
              "        await google.colab.output.renderOutput(dataTable, element);\n",
              "        const docLink = document.createElement('div');\n",
              "        docLink.innerHTML = docLinkHtml;\n",
              "        element.appendChild(docLink);\n",
              "      }\n",
              "    </script>\n",
              "  </div>\n",
              "\n",
              "\n",
              "<div id=\"df-a38844cc-8c29-4a43-9534-0da34f04d850\">\n",
              "  <button class=\"colab-df-quickchart\" onclick=\"quickchart('df-a38844cc-8c29-4a43-9534-0da34f04d850')\"\n",
              "            title=\"Suggest charts\"\n",
              "            style=\"display:none;\">\n",
              "\n",
              "<svg xmlns=\"http://www.w3.org/2000/svg\" height=\"24px\"viewBox=\"0 0 24 24\"\n",
              "     width=\"24px\">\n",
              "    <g>\n",
              "        <path d=\"M19 3H5c-1.1 0-2 .9-2 2v14c0 1.1.9 2 2 2h14c1.1 0 2-.9 2-2V5c0-1.1-.9-2-2-2zM9 17H7v-7h2v7zm4 0h-2V7h2v10zm4 0h-2v-4h2v4z\"/>\n",
              "    </g>\n",
              "</svg>\n",
              "  </button>\n",
              "\n",
              "<style>\n",
              "  .colab-df-quickchart {\n",
              "      --bg-color: #E8F0FE;\n",
              "      --fill-color: #1967D2;\n",
              "      --hover-bg-color: #E2EBFA;\n",
              "      --hover-fill-color: #174EA6;\n",
              "      --disabled-fill-color: #AAA;\n",
              "      --disabled-bg-color: #DDD;\n",
              "  }\n",
              "\n",
              "  [theme=dark] .colab-df-quickchart {\n",
              "      --bg-color: #3B4455;\n",
              "      --fill-color: #D2E3FC;\n",
              "      --hover-bg-color: #434B5C;\n",
              "      --hover-fill-color: #FFFFFF;\n",
              "      --disabled-bg-color: #3B4455;\n",
              "      --disabled-fill-color: #666;\n",
              "  }\n",
              "\n",
              "  .colab-df-quickchart {\n",
              "    background-color: var(--bg-color);\n",
              "    border: none;\n",
              "    border-radius: 50%;\n",
              "    cursor: pointer;\n",
              "    display: none;\n",
              "    fill: var(--fill-color);\n",
              "    height: 32px;\n",
              "    padding: 0;\n",
              "    width: 32px;\n",
              "  }\n",
              "\n",
              "  .colab-df-quickchart:hover {\n",
              "    background-color: var(--hover-bg-color);\n",
              "    box-shadow: 0 1px 2px rgba(60, 64, 67, 0.3), 0 1px 3px 1px rgba(60, 64, 67, 0.15);\n",
              "    fill: var(--button-hover-fill-color);\n",
              "  }\n",
              "\n",
              "  .colab-df-quickchart-complete:disabled,\n",
              "  .colab-df-quickchart-complete:disabled:hover {\n",
              "    background-color: var(--disabled-bg-color);\n",
              "    fill: var(--disabled-fill-color);\n",
              "    box-shadow: none;\n",
              "  }\n",
              "\n",
              "  .colab-df-spinner {\n",
              "    border: 2px solid var(--fill-color);\n",
              "    border-color: transparent;\n",
              "    border-bottom-color: var(--fill-color);\n",
              "    animation:\n",
              "      spin 1s steps(1) infinite;\n",
              "  }\n",
              "\n",
              "  @keyframes spin {\n",
              "    0% {\n",
              "      border-color: transparent;\n",
              "      border-bottom-color: var(--fill-color);\n",
              "      border-left-color: var(--fill-color);\n",
              "    }\n",
              "    20% {\n",
              "      border-color: transparent;\n",
              "      border-left-color: var(--fill-color);\n",
              "      border-top-color: var(--fill-color);\n",
              "    }\n",
              "    30% {\n",
              "      border-color: transparent;\n",
              "      border-left-color: var(--fill-color);\n",
              "      border-top-color: var(--fill-color);\n",
              "      border-right-color: var(--fill-color);\n",
              "    }\n",
              "    40% {\n",
              "      border-color: transparent;\n",
              "      border-right-color: var(--fill-color);\n",
              "      border-top-color: var(--fill-color);\n",
              "    }\n",
              "    60% {\n",
              "      border-color: transparent;\n",
              "      border-right-color: var(--fill-color);\n",
              "    }\n",
              "    80% {\n",
              "      border-color: transparent;\n",
              "      border-right-color: var(--fill-color);\n",
              "      border-bottom-color: var(--fill-color);\n",
              "    }\n",
              "    90% {\n",
              "      border-color: transparent;\n",
              "      border-bottom-color: var(--fill-color);\n",
              "    }\n",
              "  }\n",
              "</style>\n",
              "\n",
              "  <script>\n",
              "    async function quickchart(key) {\n",
              "      const quickchartButtonEl =\n",
              "        document.querySelector('#' + key + ' button');\n",
              "      quickchartButtonEl.disabled = true;  // To prevent multiple clicks.\n",
              "      quickchartButtonEl.classList.add('colab-df-spinner');\n",
              "      try {\n",
              "        const charts = await google.colab.kernel.invokeFunction(\n",
              "            'suggestCharts', [key], {});\n",
              "      } catch (error) {\n",
              "        console.error('Error during call to suggestCharts:', error);\n",
              "      }\n",
              "      quickchartButtonEl.classList.remove('colab-df-spinner');\n",
              "      quickchartButtonEl.classList.add('colab-df-quickchart-complete');\n",
              "    }\n",
              "    (() => {\n",
              "      let quickchartButtonEl =\n",
              "        document.querySelector('#df-a38844cc-8c29-4a43-9534-0da34f04d850 button');\n",
              "      quickchartButtonEl.style.display =\n",
              "        google.colab.kernel.accessAllowed ? 'block' : 'none';\n",
              "    })();\n",
              "  </script>\n",
              "</div>\n",
              "\n",
              "    </div>\n",
              "  </div>\n"
            ],
            "application/vnd.google.colaboratory.intrinsic+json": {
              "type": "dataframe",
              "variable_name": "salary_data",
              "summary": "{\n  \"name\": \"salary_data\",\n  \"rows\": 35,\n  \"fields\": [\n    {\n      \"column\": \"YearsExperience\",\n      \"properties\": {\n        \"dtype\": \"number\",\n        \"std\": 3.6186096963410934,\n        \"min\": 1.1,\n        \"max\": 13.5,\n        \"samples\": [\n          12.9,\n          5.3,\n          10.3\n        ],\n        \"num_unique_values\": 33,\n        \"semantic_type\": \"\",\n        \"description\": \"\"\n      }\n    },\n    {\n      \"column\": \"Salary\",\n      \"properties\": {\n        \"dtype\": \"number\",\n        \"std\": 32162,\n        \"min\": 37731,\n        \"max\": 139465,\n        \"samples\": [\n          116969,\n          57081,\n          109431\n        ],\n        \"num_unique_values\": 35,\n        \"semantic_type\": \"\",\n        \"description\": \"\"\n      }\n    }\n  ]\n}"
            }
          },
          "metadata": {},
          "execution_count": 150
        }
      ]
    },
    {
      "cell_type": "code",
      "source": [
        "#visualizing\n",
        "sns.distplot(salary_data['YearsExperience'],kde=False,bins=10)"
      ],
      "metadata": {
        "colab": {
          "base_uri": "https://localhost:8080/",
          "height": 664
        },
        "id": "VGiur0bNJ4PT",
        "outputId": "2a6b2b95-1a34-4079-8ae1-e0c4eaec20a1"
      },
      "execution_count": 151,
      "outputs": [
        {
          "output_type": "stream",
          "name": "stderr",
          "text": [
            "<ipython-input-151-b96812b11ea8>:2: UserWarning: \n",
            "\n",
            "`distplot` is a deprecated function and will be removed in seaborn v0.14.0.\n",
            "\n",
            "Please adapt your code to use either `displot` (a figure-level function with\n",
            "similar flexibility) or `histplot` (an axes-level function for histograms).\n",
            "\n",
            "For a guide to updating your code to use the new functions, please see\n",
            "https://gist.github.com/mwaskom/de44147ed2974457ad6372750bbe5751\n",
            "\n",
            "  sns.distplot(salary_data['YearsExperience'],kde=False,bins=10)\n"
          ]
        },
        {
          "output_type": "execute_result",
          "data": {
            "text/plain": [
              "<Axes: xlabel='YearsExperience'>"
            ]
          },
          "metadata": {},
          "execution_count": 151
        },
        {
          "output_type": "display_data",
          "data": {
            "text/plain": [
              "<Figure size 640x480 with 1 Axes>"
            ],
            "image/png": "[encoded data removed]"
          },
          "metadata": {}
        }
      ]
    },
    {
      "cell_type": "code",
      "source": [
        "sns.countplot(y='YearsExperience', data=salary_data)"
      ],
      "metadata": {
        "colab": {
          "base_uri": "https://localhost:8080/",
          "height": 467
        },
        "id": "QyQ0EwyZLOZd",
        "outputId": "c129d6e8-db43-46ff-89bf-c7de15f79909"
      },
      "execution_count": 152,
      "outputs": [
        {
          "output_type": "execute_result",
          "data": {
            "text/plain": [
              "<Axes: xlabel='count', ylabel='YearsExperience'>"
            ]
          },
          "metadata": {},
          "execution_count": 152
        },
        {
          "output_type": "display_data",
          "data": {
            "text/plain": [
              "<Figure size 640x480 with 1 Axes>"
            ],
            "image/png": "[encoded data removed]"
          },
          "metadata": {}
        }
      ]
    },
    {
      "cell_type": "code",
      "source": [
        "sns.barplot(x='YearsExperience',y='Salary',data=salary_data)"
      ],
      "metadata": {
        "colab": {
          "base_uri": "https://localhost:8080/",
          "height": 467
        },
        "id": "7NHK8FYbMBHI",
        "outputId": "99c5ff01-21e3-4383-bd27-3dc28c4efaa8"
      },
      "execution_count": 153,
      "outputs": [
        {
          "output_type": "execute_result",
          "data": {
            "text/plain": [
              "<Axes: xlabel='YearsExperience', ylabel='Salary'>"
            ]
          },
          "metadata": {},
          "execution_count": 153
        },
        {
          "output_type": "display_data",
          "data": {
            "text/plain": [
              "<Figure size 640x480 with 1 Axes>"
            ],
            "image/png": "[encoded data removed]"
          },
          "metadata": {}
        }
      ]
    },
    {
      "cell_type": "code",
      "source": [
        "sns.heatmap(salary_data.corr())"
      ],
      "metadata": {
        "colab": {
          "base_uri": "https://localhost:8080/",
          "height": 453
        },
        "id": "NwY9YfOWMfvJ",
        "outputId": "5c36d988-cffa-4284-e01c-9be2f4d50a7b"
      },
      "execution_count": 154,
      "outputs": [
        {
          "output_type": "execute_result",
          "data": {
            "text/plain": [
              "<Axes: >"
            ]
          },
          "metadata": {},
          "execution_count": 154
        },
        {
          "output_type": "display_data",
          "data": {
            "text/plain": [
              "<Figure size 640x480 with 2 Axes>"
            ],
            "image/png": "[encoded data removed]"
          },
          "metadata": {}
        }
      ]
    },
    {
      "cell_type": "code",
      "source": [
        "from sklearn.model_selection import train_test_split\n",
        "X_train, X_test, y_train, y_test = train_test_split(X, y, test_size=1/3, random_state=0)"
      ],
      "metadata": {
        "id": "x0CZ_e2KNGeZ"
      },
      "execution_count": 155,
      "outputs": []
    },
    {
      "cell_type": "code",
      "source": [
        "from sklearn.linear_model import LinearRegression\n",
        "lr = LinearRegression()"
      ],
      "metadata": {
        "id": "6dbjMr_ZNYHT"
      },
      "execution_count": 156,
      "outputs": []
    },
    {
      "cell_type": "code",
      "source": [
        "from sklearn.preprocessing import OneHotEncoder\n",
        "\n",
        "# Initialize OneHotEncoder\n",
        "encoder = OneHotEncoder()\n",
        "\n",
        "# Fit and transform the categorical features\n",
        "X_train_encoded = encoder.fit_transform(X_train)\n",
        "\n",
        "# Now, you can fit your Linear Regression model with the encoded features\n",
        "lr.fit(X_train_encoded, y_train)\n"
      ],
      "metadata": {
        "colab": {
          "base_uri": "https://localhost:8080/",
          "height": 74
        },
        "id": "ApqmD9M-OuOE",
        "outputId": "4c543a7e-4e5d-4657-ed12-c64ccf9ec7a5"
      },
      "execution_count": 157,
      "outputs": [
        {
          "output_type": "execute_result",
          "data": {
            "text/plain": [
              "LinearRegression()"
            ],
            "text/html": [
              "<style>#sk-container-id-7 {color: black;background-color: white;}#sk-container-id-7 pre{padding: 0;}#sk-container-id-7 div.sk-toggleable {background-color: white;}#sk-container-id-7 label.sk-toggleable__label {cursor: pointer;display: block;width: 100%;margin-bottom: 0;padding: 0.3em;box-sizing: border-box;text-align: center;}#sk-container-id-7 label.sk-toggleable__label-arrow:before {content: \"▸\";float: left;margin-right: 0.25em;color: #696969;}#sk-container-id-7 label.sk-toggleable__label-arrow:hover:before {color: black;}#sk-container-id-7 div.sk-estimator:hover label.sk-toggleable__label-arrow:before {color: black;}#sk-container-id-7 div.sk-toggleable__content {max-height: 0;max-width: 0;overflow: hidden;text-align: left;background-color: #f0f8ff;}#sk-container-id-7 div.sk-toggleable__content pre {margin: 0.2em;color: black;border-radius: 0.25em;background-color: #f0f8ff;}#sk-container-id-7 input.sk-toggleable__control:checked~div.sk-toggleable__content {max-height: 200px;max-width: 100%;overflow: auto;}#sk-container-id-7 input.sk-toggleable__control:checked~label.sk-toggleable__label-arrow:before {content: \"▾\";}#sk-container-id-7 div.sk-estimator input.sk-toggleable__control:checked~label.sk-toggleable__label {background-color: #d4ebff;}#sk-container-id-7 div.sk-label input.sk-toggleable__control:checked~label.sk-toggleable__label {background-color: #d4ebff;}#sk-container-id-7 input.sk-hidden--visually {border: 0;clip: rect(1px 1px 1px 1px);clip: rect(1px, 1px, 1px, 1px);height: 1px;margin: -1px;overflow: hidden;padding: 0;position: absolute;width: 1px;}#sk-container-id-7 div.sk-estimator {font-family: monospace;background-color: #f0f8ff;border: 1px dotted black;border-radius: 0.25em;box-sizing: border-box;margin-bottom: 0.5em;}#sk-container-id-7 div.sk-estimator:hover {background-color: #d4ebff;}#sk-container-id-7 div.sk-parallel-item::after {content: \"\";width: 100%;border-bottom: 1px solid gray;flex-grow: 1;}#sk-container-id-7 div.sk-label:hover label.sk-toggleable__label {background-color: #d4ebff;}#sk-container-id-7 div.sk-serial::before {content: \"\";position: absolute;border-left: 1px solid gray;box-sizing: border-box;top: 0;bottom: 0;left: 50%;z-index: 0;}#sk-container-id-7 div.sk-serial {display: flex;flex-direction: column;align-items: center;background-color: white;padding-right: 0.2em;padding-left: 0.2em;position: relative;}#sk-container-id-7 div.sk-item {position: relative;z-index: 1;}#sk-container-id-7 div.sk-parallel {display: flex;align-items: stretch;justify-content: center;background-color: white;position: relative;}#sk-container-id-7 div.sk-item::before, #sk-container-id-7 div.sk-parallel-item::before {content: \"\";position: absolute;border-left: 1px solid gray;box-sizing: border-box;top: 0;bottom: 0;left: 50%;z-index: -1;}#sk-container-id-7 div.sk-parallel-item {display: flex;flex-direction: column;z-index: 1;position: relative;background-color: white;}#sk-container-id-7 div.sk-parallel-item:first-child::after {align-self: flex-end;width: 50%;}#sk-container-id-7 div.sk-parallel-item:last-child::after {align-self: flex-start;width: 50%;}#sk-container-id-7 div.sk-parallel-item:only-child::after {width: 0;}#sk-container-id-7 div.sk-dashed-wrapped {border: 1px dashed gray;margin: 0 0.4em 0.5em 0.4em;box-sizing: border-box;padding-bottom: 0.4em;background-color: white;}#sk-container-id-7 div.sk-label label {font-family: monospace;font-weight: bold;display: inline-block;line-height: 1.2em;}#sk-container-id-7 div.sk-label-container {text-align: center;}#sk-container-id-7 div.sk-container {/* jupyter's `normalize.less` sets `[hidden] { display: none; }` but bootstrap.min.css set `[hidden] { display: none !important; }` so we also need the `!important` here to be able to override the default hidden behavior on the sphinx rendered scikit-learn.org. See: https://github.com/scikit-learn/scikit-learn/issues/21755 */display: inline-block !important;position: relative;}#sk-container-id-7 div.sk-text-repr-fallback {display: none;}</style><div id=\"sk-container-id-7\" class=\"sk-top-container\"><div class=\"sk-text-repr-fallback\"><pre>LinearRegression()</pre><b>In a Jupyter environment, please rerun this cell to show the HTML representation or trust the notebook. <br />On GitHub, the HTML representation is unable to render, please try loading this page with nbviewer.org.</b></div><div class=\"sk-container\" hidden><div class=\"sk-item\"><div class=\"sk-estimator sk-toggleable\"><input class=\"sk-toggleable__control sk-hidden--visually\" id=\"sk-estimator-id-7\" type=\"checkbox\" checked><label for=\"sk-estimator-id-7\" class=\"sk-toggleable__label sk-toggleable__label-arrow\">LinearRegression</label><div class=\"sk-toggleable__content\"><pre>LinearRegression()</pre></div></div></div></div></div>"
            ]
          },
          "metadata": {},
          "execution_count": 157
        }
      ]
    },
    {
      "cell_type": "code",
      "source": [
        "y_pred = lr.predict(X_train_encoded)\n",
        "y_pred"
      ],
      "metadata": {
        "colab": {
          "base_uri": "https://localhost:8080/"
        },
        "id": "7pN_gwtBPGZF",
        "outputId": "f20a45ab-0a85-467b-cf99-7ac933a91712"
      },
      "execution_count": 158,
      "outputs": [
        {
          "output_type": "execute_result",
          "data": {
            "text/plain": [
              "array([[ 8.99390000e+04],\n",
              "       [ 1.26763000e+05],\n",
              "       [ 1.26900000e+03],\n",
              "       [ 6.36450000e+04],\n",
              "       [ 1.12770000e+04],\n",
              "       [ 1.31802000e+05],\n",
              "       [ 3.15870000e+04],\n",
              "       [ 1.59026000e+05],\n",
              "       [ 2.91040000e+04],\n",
              "       [ 9.38637500e+04],\n",
              "       [ 1.41099000e+05],\n",
              "       [ 1.23282000e+05],\n",
              "       [ 1.05070000e+05],\n",
              "       [ 1.31546000e+03],\n",
              "       [ 1.34440000e+05],\n",
              "       [ 1.56672000e+05],\n",
              "       [ 6.51890000e+04],\n",
              "       [ 9.25070000e+04],\n",
              "       [ 1.13168000e+05],\n",
              "       [ 1.44520000e+05],\n",
              "       [ 7.12220000e+04],\n",
              "       [ 1.23073000e+05],\n",
              "       [ 1.41159000e+05],\n",
              "       [ 1.29013000e+05],\n",
              "       [ 1.25783000e+05],\n",
              "       [ 6.95180000e+04],\n",
              "       [ 4.94070000e+04],\n",
              "       [ 9.46571600e+04],\n",
              "       [ 1.73030000e+04],\n",
              "       [ 9.12620000e+04],\n",
              "       [ 7.90090000e+04],\n",
              "       [ 1.29319000e+05],\n",
              "       [ 7.34900000e+04],\n",
              "       [ 6.01700000e+04],\n",
              "       [ 2.06290000e+04],\n",
              "       [ 2.60300000e+03],\n",
              "       [ 6.90600000e+03],\n",
              "       [ 7.26980000e+04],\n",
              "       [ 2.12650000e+04],\n",
              "       [ 9.49400000e+03],\n",
              "       [ 1.02790000e+05],\n",
              "       [ 1.30989000e+05],\n",
              "       [ 1.35073000e+05],\n",
              "       [ 9.06300000e+03],\n",
              "       [ 5.59070000e+04],\n",
              "       [ 2.87310000e+04],\n",
              "       [ 8.80690000e+04],\n",
              "       [ 1.12043000e+05],\n",
              "       [ 4.63730000e+04],\n",
              "       [ 3.34720000e+04],\n",
              "       [ 1.41090000e+05],\n",
              "       [ 6.69590000e+04],\n",
              "       [ 7.86300000e+04],\n",
              "       [ 1.31209000e+05],\n",
              "       [ 7.83894700e+04],\n",
              "       [ 1.45719000e+05],\n",
              "       [ 1.29228000e+05],\n",
              "       [ 1.07504000e+05],\n",
              "       [ 2.69600000e+03],\n",
              "       [ 1.58668000e+05],\n",
              "       [ 4.60140200e+04],\n",
              "       [ 2.75950000e+04],\n",
              "       [ 8.27710000e+04],\n",
              "       [ 2.89800000e+04],\n",
              "       [ 2.96050000e+04],\n",
              "       [ 1.28678000e+05],\n",
              "       [ 3.60250000e+04],\n",
              "       [ 2.32240000e+04],\n",
              "       [ 3.22050000e+04],\n",
              "       [ 1.20687000e+05],\n",
              "       [ 3.35190000e+04],\n",
              "       [ 1.33160000e+04],\n",
              "       [ 7.83660000e+04],\n",
              "       [ 2.29610000e+04],\n",
              "       [ 6.08220000e+04],\n",
              "       [ 1.42143000e+05],\n",
              "       [ 1.45733000e+05],\n",
              "       [ 1.23767000e+05],\n",
              "       [ 9.28310000e+04],\n",
              "       [ 6.36150000e+04],\n",
              "       [ 1.13132000e+05],\n",
              "       [ 1.43533000e+05],\n",
              "       [ 1.09398000e+05],\n",
              "       [ 1.37388000e+05],\n",
              "       [ 3.85400000e+03],\n",
              "       [ 1.54934000e+05],\n",
              "       [ 5.29810000e+04],\n",
              "       [ 7.21400000e+03],\n",
              "       [ 5.00500000e+04],\n",
              "       [ 1.37973000e+05],\n",
              "       [ 4.27220000e+04],\n",
              "       [ 3.63270000e+04],\n",
              "       [ 1.29179000e+05],\n",
              "       [ 6.61950000e+04],\n",
              "       [ 1.25073000e+05],\n",
              "       [ 9.96000000e+03],\n",
              "       [ 3.99700000e+04],\n",
              "       [ 4.39900000e+04],\n",
              "       [ 2.29860000e+04],\n",
              "       [ 1.53748000e+05],\n",
              "       [ 5.78390000e+04],\n",
              "       [ 2.23900000e+04],\n",
              "       [ 1.16953000e+05],\n",
              "       [ 4.36390000e+04],\n",
              "       [ 9.52770000e+04],\n",
              "       [ 1.59000000e+05],\n",
              "       [ 9.92650000e+04],\n",
              "       [ 1.51311000e+05],\n",
              "       [ 6.46130000e+04],\n",
              "       [ 1.17945000e+05],\n",
              "       [ 4.40170000e+04],\n",
              "       [ 1.50311000e+05],\n",
              "       [ 7.54310000e+04],\n",
              "       [ 8.53280000e+04],\n",
              "       [ 1.30675000e+05],\n",
              "       [ 7.32890000e+04],\n",
              "       [ 6.42290000e+04],\n",
              "       [ 7.53980000e+04],\n",
              "       [ 1.29894000e+05],\n",
              "       [ 3.92020000e+04],\n",
              "       [ 1.98700000e+04],\n",
              "       [ 4.44240000e+04],\n",
              "       [ 5.71820000e+04],\n",
              "       [ 1.59570000e+05],\n",
              "       [ 6.04720000e+04],\n",
              "       [ 3.57400000e+03],\n",
              "       [ 1.38565000e+05],\n",
              "       [ 1.14523610e+05],\n",
              "       [ 9.96030000e+04],\n",
              "       [ 1.83070000e+04],\n",
              "       [ 2.56000000e+04],\n",
              "       [ 1.34615460e+05],\n",
              "       [ 1.04391000e+05],\n",
              "       [ 1.56926000e+05],\n",
              "       [ 8.73420000e+04],\n",
              "       [ 4.61770000e+04],\n",
              "       [ 6.29040000e+04],\n",
              "       [ 7.64850000e+04],\n",
              "       [ 5.79050000e+04],\n",
              "       [ 1.45505000e+05],\n",
              "       [ 3.09170000e+04],\n",
              "       [ 1.09821000e+05],\n",
              "       [ 8.03800000e+04],\n",
              "       [ 6.78770000e+04],\n",
              "       [ 3.87720000e+04],\n",
              "       [ 1.71250000e+04],\n",
              "       [ 1.18745000e+05],\n",
              "       [ 1.44841000e+05],\n",
              "       [ 4.56460000e+04],\n",
              "       [ 7.39945600e+04],\n",
              "       [ 1.43046000e+05],\n",
              "       [ 3.40870000e+04],\n",
              "       [ 1.07864000e+05],\n",
              "       [ 6.16600000e+03],\n",
              "       [ 7.28380000e+04],\n",
              "       [ 7.24940000e+04],\n",
              "       [ 1.55716000e+05],\n",
              "       [ 1.74320000e+04],\n",
              "       [ 3.21370000e+04],\n",
              "       [ 3.60110000e+04],\n",
              "       [ 5.29850000e+04],\n",
              "       [ 1.03813000e+05],\n",
              "       [ 1.26307000e+05],\n",
              "       [ 1.44661000e+05],\n",
              "       [ 8.18360000e+04],\n",
              "       [ 5.08640000e+04],\n",
              "       [ 8.85680000e+04],\n",
              "       [ 7.99740000e+04],\n",
              "       [ 9.62800000e+03],\n",
              "       [ 8.96690000e+04],\n",
              "       [ 4.74670000e+04],\n",
              "       [ 2.67500000e+04],\n",
              "       [ 1.54047000e+05],\n",
              "       [ 1.58104000e+05],\n",
              "       [ 9.31600000e+03],\n",
              "       [ 4.83200000e+04],\n",
              "       [ 6.08640000e+04],\n",
              "       [ 8.65300000e+04],\n",
              "       [ 4.66320000e+04],\n",
              "       [ 6.67050000e+04],\n",
              "       [ 6.68820000e+04],\n",
              "       [ 2.97230000e+04],\n",
              "       [ 3.79700000e+03],\n",
              "       [ 1.22931000e+05],\n",
              "       [ 4.64450000e+04],\n",
              "       [ 1.06821000e+05],\n",
              "       [ 1.07739000e+05],\n",
              "       [ 1.39796000e+05],\n",
              "       [ 7.34310000e+04],\n",
              "       [ 1.18217000e+05],\n",
              "       [ 1.65349200e+05],\n",
              "       [ 1.43423000e+05],\n",
              "       [ 9.13540000e+04],\n",
              "       [ 1.55044000e+05],\n",
              "       [ 9.90110000e+04],\n",
              "       [ 6.16130000e+04],\n",
              "       [ 1.10481000e+05],\n",
              "       [ 1.27074000e+05],\n",
              "       [ 1.55761000e+05],\n",
              "       [ 1.21500000e+03],\n",
              "       [ 1.27529000e+05],\n",
              "       [ 1.55883000e+05],\n",
              "       [ 3.63740000e+04],\n",
              "       [ 3.07130000e+04],\n",
              "       [ 1.16723000e+05],\n",
              "       [ 1.45420000e+05],\n",
              "       [ 1.38560000e+04],\n",
              "       [ 2.68200000e+03],\n",
              "       [ 6.27260000e+04],\n",
              "       [ 8.94710000e+04],\n",
              "       [ 6.10100000e+03],\n",
              "       [ 1.33671000e+05],\n",
              "       [ 7.53288700e+04],\n",
              "       [ 1.36903000e+05],\n",
              "       [ 3.63450000e+04],\n",
              "       [ 1.00610000e+05],\n",
              "       [ 5.56580000e+04],\n",
              "       [ 1.44372410e+05],\n",
              "       [ 5.33150000e+04],\n",
              "       [ 3.60080000e+04],\n",
              "       [ 6.05490000e+04],\n",
              "       [ 8.24650000e+04],\n",
              "       [ 1.41217000e+05],\n",
              "       [ 1.14090000e+05],\n",
              "       [ 9.40500000e+03],\n",
              "       [ 1.02474000e+05],\n",
              "       [ 2.18900000e+04],\n",
              "       [ 6.61020000e+04],\n",
              "       [ 5.08840000e+04],\n",
              "       [ 1.09841000e+05],\n",
              "       [ 1.46767000e+05],\n",
              "       [ 1.72190000e+04],\n",
              "       [ 1.16240000e+04],\n",
              "       [ 3.68800000e+04],\n",
              "       [ 6.09550000e+04],\n",
              "       [ 1.32703000e+05],\n",
              "       [ 3.68400000e+04],\n",
              "       [ 5.88480000e+04],\n",
              "       [ 7.09200000e+03],\n",
              "       [ 1.48278000e+05],\n",
              "       [ 1.22843000e+05],\n",
              "       [ 4.98750000e+04],\n",
              "       [ 1.27949000e+05],\n",
              "       [ 7.73600000e+03],\n",
              "       [ 8.30260000e+04],\n",
              "       [ 1.45513000e+05],\n",
              "       [ 1.30298130e+05],\n",
              "       [ 9.05550000e+04],\n",
              "       [ 2.79030000e+04],\n",
              "       [ 2.76540000e+04],\n",
              "       [ 4.41510000e+04],\n",
              "       [ 4.67500000e+04],\n",
              "       [ 5.88140000e+04],\n",
              "       [ 1.56397000e+05],\n",
              "       [ 1.43330000e+05],\n",
              "       [ 6.45200000e+04],\n",
              "       [ 1.55584000e+05],\n",
              "       [ 1.09658000e+05],\n",
              "       [ 1.36431000e+05],\n",
              "       [ 1.00275470e+05],\n",
              "       [ 3.56790000e+04],\n",
              "       [ 7.63810000e+04],\n",
              "       [ 1.35781000e+05],\n",
              "       [ 5.88500000e+03],\n",
              "       [ 5.44370000e+04],\n",
              "       [ 1.87900000e+04],\n",
              "       [ 4.59680000e+04],\n",
              "       [ 1.33110000e+05],\n",
              "       [ 1.00506000e+05],\n",
              "       [ 7.42780000e+04],\n",
              "       [ 1.54222000e+05],\n",
              "       [ 6.86530000e+04],\n",
              "       [ 6.34570000e+04],\n",
              "       [ 1.13466000e+05],\n",
              "       [ 1.39592000e+05],\n",
              "       [ 7.60260000e+04],\n",
              "       [ 1.20844000e+05],\n",
              "       [ 1.01223000e+05],\n",
              "       [ 1.41092000e+05],\n",
              "       [ 5.65470000e+04],\n",
              "       [ 6.21400000e+04],\n",
              "       [ 1.09403000e+05],\n",
              "       [ 1.89470000e+04],\n",
              "       [ 2.77450000e+04],\n",
              "       [ 5.77500000e+04],\n",
              "       [ 1.19310000e+04],\n",
              "       [ 9.00730000e+04],\n",
              "       [ 4.05010000e+04],\n",
              "       [ 1.84210000e+04],\n",
              "       [ 1.07580000e+04],\n",
              "       [ 4.96420000e+04],\n",
              "       [ 4.15780000e+04],\n",
              "       [ 6.34810000e+04],\n",
              "       [ 1.32029000e+05],\n",
              "       [ 6.03500000e+04],\n",
              "       [ 1.42107340e+05],\n",
              "       [ 5.41350000e+04],\n",
              "       [ 2.51940000e+04],\n",
              "       [ 9.83110000e+04],\n",
              "       [ 1.02170000e+05],\n",
              "       [ 1.58010000e+04],\n",
              "       [ 4.98950000e+04],\n",
              "       [ 3.20070000e+04],\n",
              "       [ 1.42001000e+05],\n",
              "       [ 2.02790000e+04],\n",
              "       [ 5.01120000e+04],\n",
              "       [ 1.31636000e+05],\n",
              "       [ 1.32796000e+05],\n",
              "       [ 7.25100000e+03],\n",
              "       [ 1.54761000e+05],\n",
              "       [ 1.19016000e+05],\n",
              "       [ 7.05290000e+04],\n",
              "       [ 9.41690000e+04],\n",
              "       [ 1.49598000e+05],\n",
              "       [ 5.31060000e+04],\n",
              "       [ 9.19923900e+04],\n",
              "       [ 1.47647000e+05],\n",
              "       [ 1.34020000e+05],\n",
              "       [ 2.92870000e+04],\n",
              "       [ 2.30700000e+03],\n",
              "       [ 6.33540000e+04],\n",
              "       [ 4.74380000e+04],\n",
              "       [ 6.86790000e+04],\n",
              "       [ 1.51320000e+04],\n",
              "       [ 1.25850000e+05],\n",
              "       [ 1.49605000e+05],\n",
              "       [ 1.55154000e+05],\n",
              "       [ 6.72890000e+04],\n",
              "       [ 7.80980000e+04],\n",
              "       [ 4.45740000e+04],\n",
              "       [ 6.19680000e+04],\n",
              "       [ 1.51853000e+05],\n",
              "       [ 7.80131100e+04],\n",
              "       [ 5.78630000e+04],\n",
              "       [ 3.54290000e+04],\n",
              "       [ 4.80820000e+04],\n",
              "       [ 1.49352000e+05],\n",
              "       [ 1.55679000e+05],\n",
              "       [ 1.35411000e+05],\n",
              "       [ 5.85280000e+04],\n",
              "       [ 1.46120000e+05],\n",
              "       [ 3.73700000e+03],\n",
              "       [ 1.07070000e+04],\n",
              "       [ 9.81900000e+04],\n",
              "       [ 4.30020000e+04],\n",
              "       [ 2.15860000e+04],\n",
              "       [ 1.13736000e+05],\n",
              "       [ 5.39810000e+04],\n",
              "       [ 7.03190000e+04],\n",
              "       [ 4.32450000e+04],\n",
              "       [ 1.89890000e+04],\n",
              "       [ 5.88670000e+04],\n",
              "       [ 1.20735000e+05],\n",
              "       [ 1.20814000e+05],\n",
              "       [ 1.52109000e+05],\n",
              "       [ 1.59196000e+05],\n",
              "       [ 1.56713000e+05],\n",
              "       [ 6.83020000e+04],\n",
              "       [ 1.21607000e+05],\n",
              "       [ 1.57923000e+05],\n",
              "       [ 1.05004000e+05],\n",
              "       [ 2.30280000e+04],\n",
              "       [ 9.60210000e+04],\n",
              "       [ 8.48170000e+04],\n",
              "       [ 8.68510000e+04],\n",
              "       [ 9.92830000e+04],\n",
              "       [ 6.55090000e+04],\n",
              "       [ 6.56054800e+04],\n",
              "       [ 8.57720000e+04],\n",
              "       [ 1.05962000e+05],\n",
              "       [ 1.21583000e+05],\n",
              "       [ 1.31154000e+05],\n",
              "       [ 1.23502000e+05],\n",
              "       [ 1.24648000e+05],\n",
              "       [ 1.03519000e+05],\n",
              "       [ 1.32160000e+05],\n",
              "       [ 7.37710000e+04],\n",
              "       [ 5.89860000e+04],\n",
              "       [ 1.21576000e+05],\n",
              "       [ 6.71910000e+04],\n",
              "       [ 1.55120000e+05],\n",
              "       [ 4.92880000e+04],\n",
              "       [ 4.85990000e+04],\n",
              "       [ 1.01859000e+05],\n",
              "       [ 1.35016000e+05],\n",
              "       [ 9.36010000e+04],\n",
              "       [ 1.15538000e+05],\n",
              "       [ 1.16989000e+05],\n",
              "       [ 9.43590000e+04],\n",
              "       [ 1.24538000e+05],\n",
              "       [ 3.63020000e+04],\n",
              "       [ 5.54939500e+04],\n",
              "       [ 3.43840000e+04],\n",
              "       [ 2.21777400e+04],\n",
              "       [ 1.36849000e+05],\n",
              "       [ 7.66600000e+04],\n",
              "       [ 1.26080000e+04],\n",
              "       [ 5.27140000e+04],\n",
              "       [ 9.67200000e+04],\n",
              "       [ 1.35611000e+05],\n",
              "       [ 2.20140000e+04],\n",
              "       [ 1.49129000e+05],\n",
              "       [ 1.22666000e+05],\n",
              "       [ 8.58000000e+04],\n",
              "       [ 1.27190000e+05],\n",
              "       [ 9.15300000e+03],\n",
              "       [ 6.86380000e+04],\n",
              "       [ 1.23926000e+05],\n",
              "       [ 1.35390000e+05],\n",
              "       [ 1.49794000e+05],\n",
              "       [ 1.58592000e+05],\n",
              "       [ 1.43683000e+05],\n",
              "       [ 1.11210000e+05],\n",
              "       [ 1.10066000e+05],\n",
              "       [ 8.97060000e+04],\n",
              "       [ 1.43670000e+04],\n",
              "       [ 1.33956000e+05],\n",
              "       [ 1.17801000e+05],\n",
              "       [ 2.61540000e+04],\n",
              "       [ 8.86500000e+04],\n",
              "       [ 1.48513000e+05],\n",
              "       [ 9.27460000e+04],\n",
              "       [ 1.67870000e+04],\n",
              "       [ 1.42240000e+05],\n",
              "       [ 1.58771000e+05],\n",
              "       [ 2.63800000e+03],\n",
              "       [ 8.29710000e+04],\n",
              "       [ 5.13530000e+04],\n",
              "       [ 3.52740000e+04],\n",
              "       [ 1.54778000e+05],\n",
              "       [ 1.00306000e+05],\n",
              "       [ 9.21140000e+04],\n",
              "       [ 7.50980000e+04],\n",
              "       [ 1.50633000e+05],\n",
              "       [ 7.70440100e+04],\n",
              "       [ 5.30120000e+04],\n",
              "       [ 5.10700000e+03],\n",
              "       [ 9.55840000e+04],\n",
              "       [ 7.30770000e+04],\n",
              "       [ 5.13730000e+04],\n",
              "       [ 2.35010000e+04],\n",
              "       [ 4.18180000e+04],\n",
              "       [ 3.76180000e+04],\n",
              "       [ 6.28680000e+04],\n",
              "       [ 1.09089000e+05],\n",
              "       [ 8.31800000e+03],\n",
              "       [ 1.08056000e+05],\n",
              "       [ 9.21710000e+04],\n",
              "       [ 1.46775000e+05],\n",
              "       [ 1.26960000e+05],\n",
              "       [ 1.53919000e+05],\n",
              "       [ 3.92800000e+04],\n",
              "       [ 3.15300000e+04],\n",
              "       [ 1.01587000e+05],\n",
              "       [ 7.82610000e+04],\n",
              "       [ 9.72090000e+04],\n",
              "       [ 4.18780000e+04],\n",
              "       [ 4.30740000e+04],\n",
              "       [ 2.98140000e+04],\n",
              "       [ 1.55563000e+05],\n",
              "       [ 1.36367000e+05],\n",
              "       [ 7.71500000e+03],\n",
              "       [ 4.93700000e+04],\n",
              "       [ 6.46647100e+04],\n",
              "       [ 1.05331000e+05],\n",
              "       [ 8.48340000e+04],\n",
              "       [ 1.31560000e+05],\n",
              "       [ 3.37180000e+04],\n",
              "       [ 1.12125000e+05],\n",
              "       [ 1.35886000e+05],\n",
              "       [ 1.86870000e+04],\n",
              "       [ 1.92910000e+04],\n",
              "       [ 7.47410000e+04],\n",
              "       [ 3.80990000e+04],\n",
              "       [ 1.40062000e+05],\n",
              "       [ 1.64590000e+04],\n",
              "       [ 1.00606000e+05],\n",
              "       [ 3.71910000e+04],\n",
              "       [ 8.11220000e+04],\n",
              "       [ 5.64280000e+04],\n",
              "       [ 3.27580000e+04],\n",
              "       [ 4.22210000e+04],\n",
              "       [ 8.64197000e+04],\n",
              "       [ 1.32690000e+04],\n",
              "       [ 8.10410000e+04],\n",
              "       [ 7.71840000e+04],\n",
              "       [ 7.30310000e+04],\n",
              "       [ 1.25158000e+05],\n",
              "       [ 3.34740000e+04],\n",
              "       [ 5.38840000e+04],\n",
              "       [ 8.42310000e+04],\n",
              "       [ 7.87090000e+04],\n",
              "       [ 5.74700000e+04],\n",
              "       [ 1.92420000e+04],\n",
              "       [ 1.31611000e+05],\n",
              "       [ 1.14150000e+04],\n",
              "       [ 2.90500000e+04],\n",
              "       [ 1.89030000e+04],\n",
              "       [ 5.66710000e+04],\n",
              "       [ 5.68500000e+04],\n",
              "       [ 1.30650000e+05],\n",
              "       [ 4.02810000e+04],\n",
              "       [ 1.28989000e+05],\n",
              "       [ 8.60800000e+04],\n",
              "       [ 6.34088600e+04],\n",
              "       [ 1.40277000e+05],\n",
              "       [ 1.58727000e+05],\n",
              "       [ 1.30189000e+05],\n",
              "       [ 1.00671960e+05],\n",
              "       [ 1.55057300e+04],\n",
              "       [ 1.37618000e+05],\n",
              "       [ 1.33439000e+05],\n",
              "       [ 2.86637600e+04],\n",
              "       [ 6.25740000e+04],\n",
              "       [ 2.72800000e+04],\n",
              "       [ 2.78929200e+04],\n",
              "       [ 1.07973000e+05],\n",
              "       [ 1.31074000e+05],\n",
              "       [ 5.69830000e+04],\n",
              "       [ 1.44690000e+04],\n",
              "       [ 7.05850000e+04],\n",
              "       [ 1.33567000e+05],\n",
              "       [ 6.97500000e+03],\n",
              "       [ 1.31845000e+05],\n",
              "       [ 1.17241000e+05],\n",
              "       [ 5.88430000e+04],\n",
              "       [ 9.66200000e+04],\n",
              "       [ 6.89200000e+04],\n",
              "       [ 9.45480000e+04],\n",
              "       [ 5.07200000e+04],\n",
              "       [ 6.75325300e+04],\n",
              "       [ 9.76700000e+04],\n",
              "       [ 6.99330000e+04],\n",
              "       [ 1.89300000e+04],\n",
              "       [ 1.12421000e+05],\n",
              "       [ 1.02541000e+05],\n",
              "       [ 1.34049000e+05],\n",
              "       [ 1.22905000e+05],\n",
              "       [ 8.08830000e+04],\n",
              "       [ 9.15560000e+04],\n",
              "       [ 1.18012000e+05],\n",
              "       [ 1.86510000e+04],\n",
              "       [ 1.46162000e+05],\n",
              "       [ 5.41120000e+04],\n",
              "       [ 7.91910000e+04],\n",
              "       [ 7.09720000e+04],\n",
              "       [ 7.65200000e+04],\n",
              "       [ 2.97840000e+04],\n",
              "       [ 1.38570000e+05],\n",
              "       [ 1.43258000e+05],\n",
              "       [ 7.21650000e+04],\n",
              "       [ 1.50584000e+05],\n",
              "       [ 3.59100000e+04],\n",
              "       [ 1.13363000e+05],\n",
              "       [ 1.30880000e+05],\n",
              "       [ 5.72670000e+04],\n",
              "       [ 1.12110000e+05],\n",
              "       [ 2.29600000e+03],\n",
              "       [ 9.23300000e+04],\n",
              "       [ 1.08606000e+05],\n",
              "       [ 9.10860000e+04],\n",
              "       [ 1.56016000e+05],\n",
              "       [ 7.88800000e+03],\n",
              "       [ 3.23210000e+04],\n",
              "       [ 4.33910000e+04],\n",
              "       [ 1.51956000e+05],\n",
              "       [ 5.40160000e+04],\n",
              "       [-3.73111106e-08],\n",
              "       [ 1.08131000e+05],\n",
              "       [ 2.48300000e+04],\n",
              "       [ 8.48070000e+04],\n",
              "       [ 4.33000000e+03],\n",
              "       [ 1.59238000e+05],\n",
              "       [ 9.48590000e+04],\n",
              "       [ 1.23093000e+05],\n",
              "       [ 1.24120000e+04],\n",
              "       [ 9.86900000e+03],\n",
              "       [ 1.09497000e+05],\n",
              "       [ 9.07800000e+03],\n",
              "       [ 7.70310000e+04],\n",
              "       [ 7.05210000e+04],\n",
              "       [ 1.44996000e+05],\n",
              "       [ 1.63400000e+03],\n",
              "       [ 1.55075000e+05],\n",
              "       [ 1.43923000e+05],\n",
              "       [ 1.40627000e+05],\n",
              "       [ 2.30440000e+04],\n",
              "       [ 4.64770000e+04],\n",
              "       [ 1.31981000e+05],\n",
              "       [ 1.32750000e+05],\n",
              "       [ 2.36409300e+04],\n",
              "       [ 1.52746000e+05],\n",
              "       [ 1.81920000e+04],\n",
              "       [ 8.45330000e+04],\n",
              "       [ 1.40198000e+05],\n",
              "       [ 1.97070000e+04],\n",
              "       [ 1.08627000e+05],\n",
              "       [ 1.16032000e+05],\n",
              "       [ 7.86940000e+04],\n",
              "       [ 6.54850000e+04],\n",
              "       [ 1.07094000e+05],\n",
              "       [ 1.34194000e+05],\n",
              "       [ 9.35910000e+04],\n",
              "       [ 1.07612000e+05],\n",
              "       [ 6.60515200e+04],\n",
              "       [ 6.05500000e+03],\n",
              "       [ 5.40400000e+03],\n",
              "       [ 4.85920000e+04],\n",
              "       [ 5.52290000e+04],\n",
              "       [ 1.25850000e+04],\n",
              "       [ 1.40809000e+05],\n",
              "       [ 4.90800000e+03],\n",
              "       [ 5.82650000e+04],\n",
              "       [ 5.95510000e+04],\n",
              "       [ 3.28920000e+04],\n",
              "       [ 1.29441000e+05],\n",
              "       [ 1.06384000e+05],\n",
              "       [ 9.54820000e+04],\n",
              "       [ 1.40284000e+05],\n",
              "       [ 1.59191000e+05],\n",
              "       [ 4.13740000e+04],\n",
              "       [ 1.40934000e+05],\n",
              "       [ 1.22434000e+05],\n",
              "       [ 4.44960000e+04],\n",
              "       [ 6.60490000e+04],\n",
              "       [ 1.19535000e+05],\n",
              "       [ 1.40797000e+05],\n",
              "       [ 4.63070000e+04],\n",
              "       [ 4.48050000e+04],\n",
              "       [ 5.65840000e+04],\n",
              "       [ 4.57100000e+04],\n",
              "       [ 9.07900000e+03],\n",
              "       [ 8.45330000e+04],\n",
              "       [ 1.23288000e+05],\n",
              "       [ 6.41240000e+04],\n",
              "       [ 1.45072000e+05],\n",
              "       [ 6.59030000e+04],\n",
              "       [ 1.18793000e+05],\n",
              "       [ 6.97620000e+04],\n",
              "       [ 2.65540000e+04],\n",
              "       [ 1.59477000e+05],\n",
              "       [ 4.89010000e+04],\n",
              "       [ 8.92420000e+04],\n",
              "       [ 6.31610000e+04],\n",
              "       [ 1.11403000e+05],\n",
              "       [ 7.96110000e+04],\n",
              "       [ 2.48150000e+04],\n",
              "       [ 8.75360000e+04],\n",
              "       [ 4.85200000e+03],\n",
              "       [ 3.08900000e+03],\n",
              "       [ 1.38389000e+05],\n",
              "       [ 3.91570000e+04],\n",
              "       [ 1.32449000e+05],\n",
              "       [ 1.07501000e+05],\n",
              "       [ 2.62600000e+03],\n",
              "       [ 1.14589000e+05],\n",
              "       [ 4.52820000e+04],\n",
              "       [ 1.23334880e+05],\n",
              "       [ 9.26650000e+04],\n",
              "       [ 8.34760000e+04],\n",
              "       [ 1.56793000e+05],\n",
              "       [ 1.10391000e+05],\n",
              "       [ 5.30780000e+04],\n",
              "       [ 2.28760000e+04],\n",
              "       [ 6.67660000e+04],\n",
              "       [ 1.12108000e+05]])"
            ]
          },
          "metadata": {},
          "execution_count": 158
        }
      ]
    },
    {
      "cell_type": "code",
      "source": [
        "x_feature = X_train_encoded[:, 0].toarray().flatten()\n",
        "#the columns are not in eaqual lenght so I used it"
      ],
      "metadata": {
        "id": "skgsSE4LRYoy"
      },
      "execution_count": 167,
      "outputs": []
    },
    {
      "cell_type": "code",
      "source": [
        "# Predict using the transformed feature matrix\n",
        "predictions = lr.predict(X_train_encoded)\n",
        "\n",
        "# Plotting\n",
        "plt.scatter(x_feature, y_train, color='blue')\n",
        "plt.plot(x_feature, predictions, color='red')\n",
        "plt.title('Salary (train set)')\n",
        "plt.xlabel('Feature')  # Replace 'Feature' with the appropriate feature name\n",
        "plt.ylabel('Salary')\n",
        "plt.show()\n"
      ],
      "metadata": {
        "colab": {
          "base_uri": "https://localhost:8080/",
          "height": 472
        },
        "id": "mgR7DcOrTueO",
        "outputId": "abaad2cd-76a6-4976-9d3d-65fe6f0077d3"
      },
      "execution_count": 170,
      "outputs": [
        {
          "output_type": "display_data",
          "data": {
            "text/plain": [
              "<Figure size 640x480 with 1 Axes>"
            ],
            "image/png": "[encoded data removed]"
          },
          "metadata": {}
        }
      ]
    },
    {
      "cell_type": "code",
      "source": [
        "# plt.scatter(x_feature, y_train, color='blue')\n",
        "# plt.plot(x_feature, lr.predict(x_feature), color='red')\n",
        "# plt.title('Salary(train set)')\n",
        "# plt.xlabel('year of exp')\n",
        "# plt.ylabel('salary')\n",
        "# plt.show()"
      ],
      "metadata": {
        "id": "GzILAmmVPbz5"
      },
      "execution_count": 163,
      "outputs": []
    },
    {
      "cell_type": "code",
      "source": [
        "from sklearn.metrics import mean_absolute_error, mean_squared_error, r2_score\n",
        "\n",
        "# Calculate Mean Absolute Error (MAE)\n",
        "mae = mean_absolute_error(y_test, y_pred)\n",
        "\n",
        "# Calculate Mean Squared Error (MSE)\n",
        "mse = mean_squared_error(y_test, y_pred)\n",
        "\n",
        "# Calculate R-squared\n",
        "r_squared = r2_score(y_test, y_pred)\n",
        "\n",
        "print('Mean Absolute Error (MAE):', mae)\n",
        "print('Mean Squared Error (MSE):', mse)\n",
        "print('R-squared:', r_squared)\n"
      ],
      "metadata": {
        "colab": {
          "base_uri": "https://localhost:8080/",
          "height": 384
        },
        "id": "AnJVUMdzUih6",
        "outputId": "9ad69579-7c03-4b16-b430-7cc2f2626e60"
      },
      "execution_count": 175,
      "outputs": [
        {
          "output_type": "error",
          "ename": "ValueError",
          "evalue": "Found input variables with inconsistent numbers of samples: [334, 666]",
          "traceback": [
            "\u001b[0;31m---------------------------------------------------------------------------\u001b[0m",
            "\u001b[0;31mValueError\u001b[0m                                Traceback (most recent call last)",
            "\u001b[0;32m<ipython-input-175-8a9fd18c1a3a>\u001b[0m in \u001b[0;36m<cell line: 4>\u001b[0;34m()\u001b[0m\n\u001b[1;32m      2\u001b[0m \u001b[0;34m\u001b[0m\u001b[0m\n\u001b[1;32m      3\u001b[0m \u001b[0;31m# Calculate Mean Absolute Error (MAE)\u001b[0m\u001b[0;34m\u001b[0m\u001b[0;34m\u001b[0m\u001b[0m\n\u001b[0;32m----> 4\u001b[0;31m \u001b[0mmae\u001b[0m \u001b[0;34m=\u001b[0m \u001b[0mmean_absolute_error\u001b[0m\u001b[0;34m(\u001b[0m\u001b[0my_test\u001b[0m\u001b[0;34m,\u001b[0m \u001b[0my_pred\u001b[0m\u001b[0;34m)\u001b[0m\u001b[0;34m\u001b[0m\u001b[0;34m\u001b[0m\u001b[0m\n\u001b[0m\u001b[1;32m      5\u001b[0m \u001b[0;34m\u001b[0m\u001b[0m\n\u001b[1;32m      6\u001b[0m \u001b[0;31m# Calculate Mean Squared Error (MSE)\u001b[0m\u001b[0;34m\u001b[0m\u001b[0;34m\u001b[0m\u001b[0m\n",
            "\u001b[0;32m/usr/local/lib/python3.10/dist-packages/sklearn/metrics/_regression.py\u001b[0m in \u001b[0;36mmean_absolute_error\u001b[0;34m(y_true, y_pred, sample_weight, multioutput)\u001b[0m\n\u001b[1;32m    194\u001b[0m     \u001b[0;36m0.85\u001b[0m\u001b[0;34m...\u001b[0m\u001b[0;34m\u001b[0m\u001b[0;34m\u001b[0m\u001b[0m\n\u001b[1;32m    195\u001b[0m     \"\"\"\n\u001b[0;32m--> 196\u001b[0;31m     y_type, y_true, y_pred, multioutput = _check_reg_targets(\n\u001b[0m\u001b[1;32m    197\u001b[0m         \u001b[0my_true\u001b[0m\u001b[0;34m,\u001b[0m \u001b[0my_pred\u001b[0m\u001b[0;34m,\u001b[0m \u001b[0mmultioutput\u001b[0m\u001b[0;34m\u001b[0m\u001b[0;34m\u001b[0m\u001b[0m\n\u001b[1;32m    198\u001b[0m     )\n",
            "\u001b[0;32m/usr/local/lib/python3.10/dist-packages/sklearn/metrics/_regression.py\u001b[0m in \u001b[0;36m_check_reg_targets\u001b[0;34m(y_true, y_pred, multioutput, dtype)\u001b[0m\n\u001b[1;32m     98\u001b[0m         \u001b[0mcorrect\u001b[0m \u001b[0mkeyword\u001b[0m\u001b[0;34m.\u001b[0m\u001b[0;34m\u001b[0m\u001b[0;34m\u001b[0m\u001b[0m\n\u001b[1;32m     99\u001b[0m     \"\"\"\n\u001b[0;32m--> 100\u001b[0;31m     \u001b[0mcheck_consistent_length\u001b[0m\u001b[0;34m(\u001b[0m\u001b[0my_true\u001b[0m\u001b[0;34m,\u001b[0m \u001b[0my_pred\u001b[0m\u001b[0;34m)\u001b[0m\u001b[0;34m\u001b[0m\u001b[0;34m\u001b[0m\u001b[0m\n\u001b[0m\u001b[1;32m    101\u001b[0m     \u001b[0my_true\u001b[0m \u001b[0;34m=\u001b[0m \u001b[0mcheck_array\u001b[0m\u001b[0;34m(\u001b[0m\u001b[0my_true\u001b[0m\u001b[0;34m,\u001b[0m \u001b[0mensure_2d\u001b[0m\u001b[0;34m=\u001b[0m\u001b[0;32mFalse\u001b[0m\u001b[0;34m,\u001b[0m \u001b[0mdtype\u001b[0m\u001b[0;34m=\u001b[0m\u001b[0mdtype\u001b[0m\u001b[0;34m)\u001b[0m\u001b[0;34m\u001b[0m\u001b[0;34m\u001b[0m\u001b[0m\n\u001b[1;32m    102\u001b[0m     \u001b[0my_pred\u001b[0m \u001b[0;34m=\u001b[0m \u001b[0mcheck_array\u001b[0m\u001b[0;34m(\u001b[0m\u001b[0my_pred\u001b[0m\u001b[0;34m,\u001b[0m \u001b[0mensure_2d\u001b[0m\u001b[0;34m=\u001b[0m\u001b[0;32mFalse\u001b[0m\u001b[0;34m,\u001b[0m \u001b[0mdtype\u001b[0m\u001b[0;34m=\u001b[0m\u001b[0mdtype\u001b[0m\u001b[0;34m)\u001b[0m\u001b[0;34m\u001b[0m\u001b[0;34m\u001b[0m\u001b[0m\n",
            "\u001b[0;32m/usr/local/lib/python3.10/dist-packages/sklearn/utils/validation.py\u001b[0m in \u001b[0;36mcheck_consistent_length\u001b[0;34m(*arrays)\u001b[0m\n\u001b[1;32m    395\u001b[0m     \u001b[0muniques\u001b[0m \u001b[0;34m=\u001b[0m \u001b[0mnp\u001b[0m\u001b[0;34m.\u001b[0m\u001b[0munique\u001b[0m\u001b[0;34m(\u001b[0m\u001b[0mlengths\u001b[0m\u001b[0;34m)\u001b[0m\u001b[0;34m\u001b[0m\u001b[0;34m\u001b[0m\u001b[0m\n\u001b[1;32m    396\u001b[0m     \u001b[0;32mif\u001b[0m \u001b[0mlen\u001b[0m\u001b[0;34m(\u001b[0m\u001b[0muniques\u001b[0m\u001b[0;34m)\u001b[0m \u001b[0;34m>\u001b[0m \u001b[0;36m1\u001b[0m\u001b[0;34m:\u001b[0m\u001b[0;34m\u001b[0m\u001b[0;34m\u001b[0m\u001b[0m\n\u001b[0;32m--> 397\u001b[0;31m         raise ValueError(\n\u001b[0m\u001b[1;32m    398\u001b[0m             \u001b[0;34m\"Found input variables with inconsistent numbers of samples: %r\"\u001b[0m\u001b[0;34m\u001b[0m\u001b[0;34m\u001b[0m\u001b[0m\n\u001b[1;32m    399\u001b[0m             \u001b[0;34m%\u001b[0m \u001b[0;34m[\u001b[0m\u001b[0mint\u001b[0m\u001b[0;34m(\u001b[0m\u001b[0ml\u001b[0m\u001b[0;34m)\u001b[0m \u001b[0;32mfor\u001b[0m \u001b[0ml\u001b[0m \u001b[0;32min\u001b[0m \u001b[0mlengths\u001b[0m\u001b[0;34m]\u001b[0m\u001b[0;34m\u001b[0m\u001b[0;34m\u001b[0m\u001b[0m\n",
            "\u001b[0;31mValueError\u001b[0m: Found input variables with inconsistent numbers of samples: [334, 666]"
          ]
        }
      ]
    },
    {
      "cell_type": "code",
      "source": [
        "print(\"Size of y_test:\", len(y_test))\n",
        "print(\"Size of y_pred:\", len(y_pred))\n",
        "#for me the lenght is not equal so it like this"
      ],
      "metadata": {
        "colab": {
          "base_uri": "https://localhost:8080/"
        },
        "id": "-2YhnW1gd0ul",
        "outputId": "6c9bec9d-dd6c-4bf7-9b3f-91c52e20399e"
      },
      "execution_count": 176,
      "outputs": [
        {
          "output_type": "stream",
          "name": "stdout",
          "text": [
            "Size of y_test: 334\n",
            "Size of y_pred: 666\n"
          ]
        }
      ]
    }
  ]
}